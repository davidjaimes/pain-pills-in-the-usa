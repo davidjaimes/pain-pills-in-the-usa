{
 "cells": [
  {
   "cell_type": "code",
   "execution_count": 2,
   "metadata": {},
   "outputs": [],
   "source": [
    "import glob as gl\n",
    "import pandas as pd\n",
    "import numpy as np\n",
    "files = sorted(gl.glob('data/*.csv'))\n",
    "df = pd.read_csv(files[0])\n",
    "unique, indices = np.unique(df['BUYER_ZIP'], return_index=True)\n",
    "cities = df['BUYER_CITY'][indices]\n",
    "for f in files[1:]:\n",
    "    df = pd.read_csv(f)\n",
    "    unq, inx = np.unique(df['BUYER_ZIP'], return_index=True)\n",
    "    concat = np.concatenate((unique, unq), axis=None)\n",
    "    cities = np.concatenate((cities, df['BUYER_CITY'][inx]), axis=None)\n",
    "    unique, indices = np.unique(concat, return_index=True)\n",
    "    cities = cities[indices]\n",
    "df = pd.DataFrame({'Zip Code': unique, 'City': cities})\n",
    "df = df.sort_values(by=['Zip Code'])\n",
    "df.to_csv('zip_codes.csv', index=False)"
   ]
  },
  {
   "cell_type": "code",
   "execution_count": null,
   "metadata": {},
   "outputs": [],
   "source": []
  }
 ],
 "metadata": {
  "kernelspec": {
   "display_name": "Python 3",
   "language": "python",
   "name": "python3"
  },
  "language_info": {
   "codemirror_mode": {
    "name": "ipython",
    "version": 3
   },
   "file_extension": ".py",
   "mimetype": "text/x-python",
   "name": "python",
   "nbconvert_exporter": "python",
   "pygments_lexer": "ipython3",
   "version": "3.7.4"
  }
 },
 "nbformat": 4,
 "nbformat_minor": 4
}
