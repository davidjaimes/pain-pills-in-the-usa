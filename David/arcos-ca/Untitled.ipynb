{
 "cells": [
  {
   "cell_type": "code",
   "execution_count": 3,
   "metadata": {},
   "outputs": [],
   "source": [
    "import pandas as pd\n",
    "import glob as gl\n",
    "merge = pd.read_csv('zip_codes.csv')\n",
    "merge['DOSAGE_UNIT'] = 0\n",
    "merge = merge.rename(columns={'Zip Code': 'BUYER_ZIP'})\n",
    "files = sorted(gl.glob('data/*.csv'))\n",
    "for i, f in enumerate(files):\n",
    "    df = pd.read_csv(f)\n",
    "    # Comment next two lines for all years from 2006 to 2012.\n",
    "    df['TRANSACTION_DATE'] = pd.to_datetime(df['TRANSACTION_DATE'], format='%m%d%Y')\n",
    "    df = df[df['TRANSACTION_DATE'].dt.year == 2010]\n",
    "    del df['TRANSACTION_DATE']\n",
    "    grp = df.groupby('BUYER_ZIP')\n",
    "    merge = pd.merge(merge, grp.sum(), how='left', on='BUYER_ZIP')\n",
    "    merge = merge.fillna(0)\n",
    "    merge['DOSAGE_UNIT_x'] = merge['DOSAGE_UNIT_x'] + merge['DOSAGE_UNIT_y']\n",
    "    merge = merge.rename(columns={'DOSAGE_UNIT_x': 'DOSAGE_UNIT'})\n",
    "    del merge['DOSAGE_UNIT_y']\n",
    "merge = merge.rename(columns={'BUYER_ZIP': 'Zip Code', 'DOSAGE_UNIT': 'Pills'})\n",
    "merge = merge.sort_values(by=['Pills'], ascending=False)\n",
    "merge['Pills'] = merge['Pills'].astype('int32')\n",
    "merge.to_csv('pills-per-zipcode.csv', index=False)"
   ]
  },
  {
   "cell_type": "code",
   "execution_count": null,
   "metadata": {},
   "outputs": [],
   "source": []
  }
 ],
 "metadata": {
  "kernelspec": {
   "display_name": "Python 3",
   "language": "python",
   "name": "python3"
  },
  "language_info": {
   "codemirror_mode": {
    "name": "ipython",
    "version": 3
   },
   "file_extension": ".py",
   "mimetype": "text/x-python",
   "name": "python",
   "nbconvert_exporter": "python",
   "pygments_lexer": "ipython3",
   "version": "3.7.4"
  }
 },
 "nbformat": 4,
 "nbformat_minor": 4
}
