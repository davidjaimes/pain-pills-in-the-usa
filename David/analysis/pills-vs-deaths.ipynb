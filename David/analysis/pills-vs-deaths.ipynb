{
 "cells": [
  {
   "cell_type": "code",
   "execution_count": 1,
   "metadata": {},
   "outputs": [],
   "source": [
    "from scipy import stats\n",
    "import pandas as pd\n",
    "import matplotlib.pyplot as plt\n",
    "%matplotlib inline"
   ]
  },
  {
   "cell_type": "code",
   "execution_count": 3,
   "metadata": {},
   "outputs": [
    {
     "data": {
      "text/html": [
       "<div>\n",
       "<style scoped>\n",
       "    .dataframe tbody tr th:only-of-type {\n",
       "        vertical-align: middle;\n",
       "    }\n",
       "\n",
       "    .dataframe tbody tr th {\n",
       "        vertical-align: top;\n",
       "    }\n",
       "\n",
       "    .dataframe thead th {\n",
       "        text-align: right;\n",
       "    }\n",
       "</style>\n",
       "<table border=\"1\" class=\"dataframe\">\n",
       "  <thead>\n",
       "    <tr style=\"text-align: right;\">\n",
       "      <th></th>\n",
       "      <th>Zip Code</th>\n",
       "      <th>City</th>\n",
       "      <th>Pills</th>\n",
       "      <th>Tax Returns</th>\n",
       "      <th>AGI thousands</th>\n",
       "      <th>Population</th>\n",
       "      <th>Death Rate</th>\n",
       "    </tr>\n",
       "  </thead>\n",
       "  <tbody>\n",
       "    <tr>\n",
       "      <th>0</th>\n",
       "      <td>94550</td>\n",
       "      <td>LIVERMORE</td>\n",
       "      <td>52022690</td>\n",
       "      <td>21341</td>\n",
       "      <td>2066480</td>\n",
       "      <td>46896</td>\n",
       "      <td>1.63</td>\n",
       "    </tr>\n",
       "    <tr>\n",
       "      <th>1</th>\n",
       "      <td>90242</td>\n",
       "      <td>DOWNEY</td>\n",
       "      <td>21791650</td>\n",
       "      <td>17767</td>\n",
       "      <td>726095</td>\n",
       "      <td>43497</td>\n",
       "      <td>2.65</td>\n",
       "    </tr>\n",
       "    <tr>\n",
       "      <th>2</th>\n",
       "      <td>92010</td>\n",
       "      <td>CARLSBAD</td>\n",
       "      <td>10548200</td>\n",
       "      <td>6737</td>\n",
       "      <td>495599</td>\n",
       "      <td>14382</td>\n",
       "      <td>12.55</td>\n",
       "    </tr>\n",
       "    <tr>\n",
       "      <th>3</th>\n",
       "      <td>95350</td>\n",
       "      <td>MODESTO</td>\n",
       "      <td>6547370</td>\n",
       "      <td>20938</td>\n",
       "      <td>891634</td>\n",
       "      <td>51046</td>\n",
       "      <td>2.19</td>\n",
       "    </tr>\n",
       "    <tr>\n",
       "      <th>4</th>\n",
       "      <td>95825</td>\n",
       "      <td>SACRAMENTO</td>\n",
       "      <td>6087880</td>\n",
       "      <td>13817</td>\n",
       "      <td>591794</td>\n",
       "      <td>31084</td>\n",
       "      <td>2.75</td>\n",
       "    </tr>\n",
       "    <tr>\n",
       "      <th>...</th>\n",
       "      <td>...</td>\n",
       "      <td>...</td>\n",
       "      <td>...</td>\n",
       "      <td>...</td>\n",
       "      <td>...</td>\n",
       "      <td>...</td>\n",
       "      <td>...</td>\n",
       "    </tr>\n",
       "    <tr>\n",
       "      <th>668</th>\n",
       "      <td>95033</td>\n",
       "      <td>LOS GATOS</td>\n",
       "      <td>200</td>\n",
       "      <td>4012</td>\n",
       "      <td>552488</td>\n",
       "      <td>9372</td>\n",
       "      <td>5.35</td>\n",
       "    </tr>\n",
       "    <tr>\n",
       "      <th>669</th>\n",
       "      <td>93725</td>\n",
       "      <td>FRESNO</td>\n",
       "      <td>180</td>\n",
       "      <td>9020</td>\n",
       "      <td>280513</td>\n",
       "      <td>24979</td>\n",
       "      <td>4.43</td>\n",
       "    </tr>\n",
       "    <tr>\n",
       "      <th>670</th>\n",
       "      <td>95215</td>\n",
       "      <td>STOCKTON</td>\n",
       "      <td>130</td>\n",
       "      <td>8467</td>\n",
       "      <td>316574</td>\n",
       "      <td>23224</td>\n",
       "      <td>35.97</td>\n",
       "    </tr>\n",
       "    <tr>\n",
       "      <th>671</th>\n",
       "      <td>94930</td>\n",
       "      <td>FAIRFAX</td>\n",
       "      <td>100</td>\n",
       "      <td>4029</td>\n",
       "      <td>319932</td>\n",
       "      <td>8500</td>\n",
       "      <td>5.44</td>\n",
       "    </tr>\n",
       "    <tr>\n",
       "      <th>672</th>\n",
       "      <td>94951</td>\n",
       "      <td>PENNGROVE</td>\n",
       "      <td>100</td>\n",
       "      <td>2044</td>\n",
       "      <td>141704</td>\n",
       "      <td>4124</td>\n",
       "      <td>22.48</td>\n",
       "    </tr>\n",
       "  </tbody>\n",
       "</table>\n",
       "<p>673 rows × 7 columns</p>\n",
       "</div>"
      ],
      "text/plain": [
       "     Zip Code        City     Pills  Tax Returns  AGI thousands  Population  \\\n",
       "0       94550   LIVERMORE  52022690        21341        2066480       46896   \n",
       "1       90242      DOWNEY  21791650        17767         726095       43497   \n",
       "2       92010    CARLSBAD  10548200         6737         495599       14382   \n",
       "3       95350     MODESTO   6547370        20938         891634       51046   \n",
       "4       95825  SACRAMENTO   6087880        13817         591794       31084   \n",
       "..        ...         ...       ...          ...            ...         ...   \n",
       "668     95033   LOS GATOS       200         4012         552488        9372   \n",
       "669     93725      FRESNO       180         9020         280513       24979   \n",
       "670     95215    STOCKTON       130         8467         316574       23224   \n",
       "671     94930     FAIRFAX       100         4029         319932        8500   \n",
       "672     94951   PENNGROVE       100         2044         141704        4124   \n",
       "\n",
       "     Death Rate  \n",
       "0          1.63  \n",
       "1          2.65  \n",
       "2         12.55  \n",
       "3          2.19  \n",
       "4          2.75  \n",
       "..          ...  \n",
       "668        5.35  \n",
       "669        4.43  \n",
       "670       35.97  \n",
       "671        5.44  \n",
       "672       22.48  \n",
       "\n",
       "[673 rows x 7 columns]"
      ]
     },
     "execution_count": 3,
     "metadata": {},
     "output_type": "execute_result"
    }
   ],
   "source": [
    "df = pd.read_csv('data/merged.csv')\n",
    "df"
   ]
  },
  {
   "cell_type": "code",
   "execution_count": 11,
   "metadata": {},
   "outputs": [],
   "source": [
    "population = pd.DataFrame({\n",
    "    'PPP': df['Pills'] / df['Population'],\n",
    "    'Deaths': df['Death Rate']\n",
    "})"
   ]
  },
  {
   "cell_type": "code",
   "execution_count": 20,
   "metadata": {},
   "outputs": [
    {
     "data": {
      "text/plain": [
       "<matplotlib.collections.LineCollection at 0x1a1d358f50>"
      ]
     },
     "execution_count": 20,
     "metadata": {},
     "output_type": "execute_result"
    },
    {
     "data": {
      "image/png": "[encoded data removed]",
      "text/plain": [
       "<Figure size 432x288 with 1 Axes>"
      ]
     },
     "metadata": {
      "needs_background": "light"
     },
     "output_type": "display_data"
    }
   ],
   "source": [
    "w = population['PPP'] > population['PPP'].mean()\n",
    "sample = population[w]\n",
    "plt.plot(population['PPP'], population['Deaths'], 'o')\n",
    "plt.plot(sample['PPP'], sample['Deaths'], 'o')\n",
    "\n",
    "plt.hlines(population['Deaths'].mean(), 1e-2, 1e3, zorder=3)\n",
    "#plt.xscale('log')\n",
    "#plt.yscale('log')"
   ]
  },
  {
   "cell_type": "code",
   "execution_count": 13,
   "metadata": {},
   "outputs": [
    {
     "data": {
      "text/plain": [
       "Ttest_1sampResult(statistic=3.2312009539382527, pvalue=0.00143209342646343)"
      ]
     },
     "execution_count": 13,
     "metadata": {},
     "output_type": "execute_result"
    }
   ],
   "source": [
    "stats.ttest_1samp(sample['Deaths'], population['Deaths'].mean())"
   ]
  },
  {
   "cell_type": "code",
   "execution_count": null,
   "metadata": {},
   "outputs": [],
   "source": []
  }
 ],
 "metadata": {
  "kernelspec": {
   "display_name": "Python 3",
   "language": "python",
   "name": "python3"
  },
  "language_info": {
   "codemirror_mode": {
    "name": "ipython",
    "version": 3
   },
   "file_extension": ".py",
   "mimetype": "text/x-python",
   "name": "python",
   "nbconvert_exporter": "python",
   "pygments_lexer": "ipython3",
   "version": "3.7.4"
  }
 },
 "nbformat": 4,
 "nbformat_minor": 4
}
