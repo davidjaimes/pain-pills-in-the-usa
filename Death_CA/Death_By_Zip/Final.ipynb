{
 "cells": [
  {
   "cell_type": "code",
   "execution_count": 1,
   "metadata": {},
   "outputs": [],
   "source": [
    "import matplotlib.pyplot as plt\n",
    "import pandas as pd\n",
    "import numpy as np\n",
    "import glob\n",
    "import os\n",
    "import scipy.stats as stats"
   ]
  },
  {
   "cell_type": "code",
   "execution_count": 2,
   "metadata": {},
   "outputs": [
    {
     "data": {
      "text/plain": [
       "4.7687043378995435"
      ]
     },
     "execution_count": 2,
     "metadata": {},
     "output_type": "execute_result"
    }
   ],
   "source": [
    "path = r'C:\\Users\\Steven Quitugua\\pain-pills-in-the-usa\\Death_CA\\Death_By_Zip'\n",
    "\n",
    "filenames = glob.glob(path + \"/*.csv\")\n",
    "concat = pd.DataFrame()\n",
    "\n",
    "for file in filenames:\n",
    "    df = pd.read_csv(file, skiprows=2)\n",
    "    df = df[: -4]\n",
    "    concat = pd.concat([concat, df],sort=False)\n",
    "\n",
    "population = concat.sort_values(by=['Rates'], ascending=False)\n",
    "population.to_csv('Globbed.csv', index=False)\n",
    "topten = population.head(10)\n",
    "mean_pop = population['Rates'].mean()\n",
    "mean_pop"
   ]
  },
  {
   "cell_type": "code",
   "execution_count": 3,
   "metadata": {},
   "outputs": [
    {
     "data": {
      "image/png": "[encoded data removed]",
      "text/plain": [
       "<Figure size 432x288 with 1 Axes>"
      ]
     },
     "metadata": {
      "needs_background": "light"
     },
     "output_type": "display_data"
    }
   ],
   "source": [
    "plt.title('Top Ten Cities with Highest Death Rates')\n",
    "\n",
    "\n",
    "plt.style.use('ggplot')\n",
    "x = range(1,11)\n",
    "plt.barh(x, topten['Rates'])\n",
    "plt.vlines(mean_pop, 0,11, color='black')\n",
    "plt.ylabel('Zip Codes', color='red')\n",
    "plt.xlabel('Death Rates', color='red')\n",
    "plt.yticks(x, topten['Zip Code'])\n",
    "plt.xticks(rotation=45)\n",
    "plt.xlim(0,410)\n",
    "plt.show()"
   ]
  },
  {
   "cell_type": "code",
   "execution_count": 4,
   "metadata": {},
   "outputs": [
    {
     "ename": "TypeError",
     "evalue": "ttest_ind() missing 1 required positional argument: 'b'",
     "output_type": "error",
     "traceback": [
      "\u001b[1;31m---------------------------------------------------------------------------\u001b[0m",
      "\u001b[1;31mTypeError\u001b[0m                                 Traceback (most recent call last)",
      "\u001b[1;32m<ipython-input-4-49f181985347>\u001b[0m in \u001b[0;36m<module>\u001b[1;34m\u001b[0m\n\u001b[1;32m----> 1\u001b[1;33m \u001b[0mstats\u001b[0m\u001b[1;33m.\u001b[0m\u001b[0mttest_ind\u001b[0m\u001b[1;33m(\u001b[0m\u001b[0mmean_pop\u001b[0m\u001b[1;33m,\u001b[0m \u001b[0mequal_var\u001b[0m\u001b[1;33m=\u001b[0m\u001b[1;32mFalse\u001b[0m\u001b[1;33m)\u001b[0m\u001b[1;33m\u001b[0m\u001b[0m\n\u001b[0m",
      "\u001b[1;31mTypeError\u001b[0m: ttest_ind() missing 1 required positional argument: 'b'"
     ]
    }
   ],
   "source": [
    "stats.ttest_ind(mean_pop, equal_var=False)"
   ]
  },
  {
   "cell_type": "markdown",
   "metadata": {},
   "source": []
  },
  {
   "cell_type": "code",
   "execution_count": null,
   "metadata": {},
   "outputs": [],
   "source": []
  }
 ],
 "metadata": {
  "kernelspec": {
   "display_name": "PythonData",
   "language": "python",
   "name": "pythondata"
  },
  "language_info": {
   "codemirror_mode": {
    "name": "ipython",
    "version": 3
   },
   "file_extension": ".py",
   "mimetype": "text/x-python",
   "name": "python",
   "nbconvert_exporter": "python",
   "pygments_lexer": "ipython3",
   "version": "3.6.5"
  }
 },
 "nbformat": 4,
 "nbformat_minor": 2
}
